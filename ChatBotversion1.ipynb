{
  "cells": [
    {
      "cell_type": "markdown",
      "metadata": {
        "id": "view-in-github",
        "colab_type": "text"
      },
      "source": [
        "<a href=\"https://colab.research.google.com/github/Safaa860/Chatbotforeatingdisorderfinalv/blob/main/ChatBotversion1.ipynb\" target=\"_parent\"><img src=\"https://colab.research.google.com/assets/colab-badge.svg\" alt=\"Open In Colab\"/></a>"
      ]
    },
    {
      "cell_type": "code",
      "execution_count": 47,
      "metadata": {
        "colab": {
          "base_uri": "https://localhost:8080/"
        },
        "id": "4g6M-hf7R5eX",
        "outputId": "6a2d30c9-a3a4-4d83-86cc-7ac460949c5c"
      },
      "outputs": [
        {
          "output_type": "stream",
          "name": "stdout",
          "text": [
            "Hi there, I'm a chatbot designed to help you assess whether you may have an eating disorder.\n",
            "To get started, can you answer a few questions for me?\n",
            "Have you been deliberately trying to limit the amount of food you eat to influence your shape or weight (whether or not you have succeeded)? (y/n): y\n",
            "Have you gone for long periods of time (8 waking hours or more) without eating anything at all in order to influence your shape or weight? (y/n): y\n",
            "Have you tried to exclude from your diet any foods that you like in order to influence your shape or weight (whether or not you have succeeded)? (y/n): y\n",
            "Have you tried to follow definite rules regarding your eating (for example, a calorie limit) in order to influence your shape or weight (whether or not you have succeeded)? (y/n): y\n",
            "Have you had a definite desire to have an empty stomach with the aim of influencing your shape or weight?  (y/n): y\n",
            "Have you had a definite desire to have a totally flat stomach?  (y/n): y\n",
            "Has thinking about food, eating or calories made it very difficult to concentrate on things you are interested in (for example, working, following a conversation, or reading)? (y/n): y\n",
            "Has thinking about shape or weight made it very difficult to concentrate on things you are interested in (for example, working, following a conversation, or reading)? (y/n): y\n",
            "Have you had a definite fear of losing control over eating? (y/n): y\n",
            "Have you had a definite fear that you might gain weight?  (y/n): y\n",
            "Have you felt fat? (y/n): y\n",
            "Have you had a strong desire to lose weight? (y/n): y\n",
            "Has your weight influenced how you think about (judge) yourself as a person? (y/n): y\n",
            "Has your shape influenced how you think about (judge) yourself as a person? (y/n): y\n",
            "Are you dissatisfied with your weight? (y/n): y\n",
            "Do you feel uncomfortable seeing your body (for example, seeing your shape in the mirror, in a shop window reflection, while undressing or taking a bath or shower)? (y/n): y\n",
            "Based on your responses,We suggest you to seek more help by visiting this link https://www.beateatingdisorders.org.uk.\n"
          ]
        }
      ],
      "source": [
        "import numpy as np\n",
        "import pandas as pd\n",
        "from sklearn.linear_model import LogisticRegression\n",
        "from sklearn.metrics import precision_score, recall_score, accuracy_score\n",
        "from sklearn.preprocessing import LabelEncoder\n",
        "\n",
        "# Load the EDQ-6 dataset and split into features and labels\n",
        "data = pd.read_csv('/content/drive/MyDrive/Colab Notebooks/safahdhdj-copy (1).csv')\n",
        "X = data.drop(['SignPost'], axis=1).values\n",
        "y = data['SignPost'].values\n",
        "\n",
        "# Train a logistic regression model on the dataset\n",
        "model = LogisticRegression()\n",
        "model.fit(X, y)\n",
        "\n",
        "\n",
        "\n",
        "\n",
        "\n",
        "# Define the chatbot questions\n",
        "questions = ['Have you been deliberately trying to limit the amount of food you eat to influence your shape or weight (whether or not you have succeeded)?',\n",
        "             'Have you gone for long periods of time (8 waking hours or more) without eating anything at all in order to influence your shape or weight?',\n",
        "             'Have you tried to exclude from your diet any foods that you like in order to influence your shape or weight (whether or not you have succeeded)?',\n",
        "             'Have you tried to follow definite rules regarding your eating (for example, a calorie limit) in order to influence your shape or weight (whether or not you have succeeded)?',\n",
        "             'Have you had a definite desire to have an empty stomach with the aim of influencing your shape or weight? ',\n",
        "             'Have you had a definite desire to have a totally flat stomach? ',\n",
        "             'Has thinking about food, eating or calories made it very difficult to concentrate on things you are interested in (for example, working, following a conversation, or reading)?',\n",
        "             'Has thinking about shape or weight made it very difficult to concentrate on things you are interested in (for example, working, following a conversation, or reading)?',\n",
        "             'Have you had a definite fear of losing control over eating?',\n",
        "             'Have you had a definite fear that you might gain weight? ',\n",
        "             'Have you felt fat?',\n",
        "             'Have you had a strong desire to lose weight?',\n",
        "             'Has your weight influenced how you think about (judge) yourself as a person?',\n",
        "             'Has your shape influenced how you think about (judge) yourself as a person?',\n",
        "             'Are you dissatisfied with your weight?',\n",
        "             'Do you feel uncomfortable seeing your body (for example, seeing your shape in the mirror, in a shop window reflection, while undressing or taking a bath or shower)?'\n",
        "             ]\n",
        "\n",
        "\n",
        "# Define the threshold for suggesting seeking professional help\n",
        "threshold = 0.5\n",
        "\n",
        "# Define the chatbot conversation function\n",
        "def chat():\n",
        "    print('Hi there, I\\'m a chatbot designed to help you assess whether you may have an eating disorder.')\n",
        "    print('To get started, can you answer a few questions for me?')\n",
        "    responses = []\n",
        "    for q in questions:\n",
        "        response = input(q + ' (y/n): ')\n",
        "        if response.lower() == 'y':\n",
        "            responses.append(1)\n",
        "        else:\n",
        "            responses.append(0)\n",
        "    # Make a prediction using the trained model\n",
        "    pred_prob = model.predict_proba([responses])[0][1]\n",
        "    if pred_prob < threshold:\n",
        "        print('Based on your responses,We suggest you to seek more help by visiting this link https://www.beateatingdisorders.org.uk.')\n",
        "    else:\n",
        "        print('We are grateful for your response.')\n",
        "        # Define the chatbot conversation function\n",
        "           # Predict using the model\n",
        "    preds = model.predict(X)\n",
        " \n",
        "\n",
        "        \n",
        "# Run the chatbotynn\n",
        "chat()"
      ]
    },
    {
      "cell_type": "code",
      "execution_count": 25,
      "metadata": {
        "colab": {
          "base_uri": "https://localhost:8080/"
        },
        "id": "36ABw8QlSEyA",
        "outputId": "1923758a-ec73-4d80-9a0d-47bf20a053b1"
      },
      "outputs": [
        {
          "output_type": "stream",
          "name": "stdout",
          "text": [
            "Drive already mounted at /content/drive; to attempt to forcibly remount, call drive.mount(\"/content/drive\", force_remount=True).\n"
          ]
        }
      ],
      "source": [
        "from google.colab import drive\n",
        "drive.mount('/content/drive')"
      ]
    },
    {
      "cell_type": "code",
      "source": [
        "uname = \"Safaa860\"\n",
        "!git config --global user.email '$Safaa.basharat509@gmail.com'\n",
        "!git config --global user.name '$Safaa860'\n",
        "\n",
        "from getpass import getpass\n",
        "password = getpass('Password:')\n",
        "!git remote add origin https://github.com/Safaa860/Chatbotfinalversion.git\n",
        "\n",
        "!git commit -m \"first commit\"\n",
        "!git branch -M master\n",
        "!git push -u origin master\n"
      ],
      "metadata": {
        "id": "8v0GMFDE-yAX"
      },
      "execution_count": null,
      "outputs": []
    },
    {
      "cell_type": "code",
      "source": [
        "from sklearn.metrics import accuracy_score\n",
        "from sklearn.model_selection import train_test_split\n",
        "\n",
        "# Load the EDQ-6 dataset and split into features and labels\n",
        "data = pd.read_csv('/content/drive/MyDrive/Colab Notebooks/safahdhhdj-copy.csv')\n",
        "X = data.drop(['Prognosis'], axis=1).values\n",
        "y = data['Prognosis'].values\n",
        "\n",
        "# Split the dataset into training and testing sets\n",
        "X_train, X_test, y_train, y_test = train_test_split(X, y, test_size=0.2, random_state=42)\n",
        "\n",
        "# Train a logistic regression model on the training set\n",
        "model = LogisticRegression()\n",
        "model.fit(X_train, y_train)\n",
        "\n",
        "# Make predictions on the testing set\n",
        "y_pred = model.predict(X_test)\n",
        "\n",
        "# Calculate accuracy\n",
        "acc = accuracy_score(y_test, y_pred)\n",
        "print('Accuracy:', acc)\n"
      ],
      "metadata": {
        "colab": {
          "base_uri": "https://localhost:8080/"
        },
        "id": "-DzKD3iI_N_l",
        "outputId": "df878e6a-4477-4a77-86ef-3a1da97d9555"
      },
      "execution_count": null,
      "outputs": [
        {
          "output_type": "stream",
          "name": "stdout",
          "text": [
            "Accuracy: 1.0\n"
          ]
        }
      ]
    },
    {
      "cell_type": "code",
      "source": [
        "import numpy as np\n",
        "import pandas as pd\n",
        "from sklearn.linear_model import LogisticRegression\n",
        "from sklearn.metrics import precision_score, recall_score, accuracy_score\n",
        "\n",
        "# Load the EDQ-6 dataset and split into features and labels\n",
        "data = pd.read_csv('/content/drive/MyDrive/Colab Notebooks/safahdhdj-copy (1).csv')\n",
        "X = data.drop(['SignPost'], axis=1).values\n",
        "y = data['SignPost'].values\n",
        "\n",
        "# Train a logistic regression model on the dataset\n",
        "model = LogisticRegression()\n",
        "model.fit(X, y)\n",
        "\n",
        "# Define the chatbot questions\n",
        "questions = ['Have you been deliberately trying to limit the amount of food you eat to influence your shape or weight (whether or not you have succeeded)?',\n",
        "             'Have you gone for long periods of time (8 waking hours or more) without eating anything at all in order to influence your shape or weight?',\n",
        "             'Have you tried to exclude from your diet any foods that you like in order to influence your shape or weight (whether or not you have succeeded)?',\n",
        "             'Have you tried to follow definite rules regarding your eating (for example, a calorie limit) in order to influence your shape or weight (whether or not you have succeeded)?',\n",
        "             'Have you had a definite desire to have an empty stomach with the aim of influencing your shape or weight? ',\n",
        "             'Have you had a definite desire to have a totally flat stomach? ',\n",
        "             'Has thinking about food, eating or calories made it very difficult to concentrate on things you are interested in (for example, working, following a conversation, or reading)?',\n",
        "             'Has thinking about shape or weight made it very difficult to concentrate on things you are interested in (for example, working, following a conversation, or reading)?',\n",
        "             'Have you had a definite fear of losing control over eating?',\n",
        "             'Have you had a definite fear that you might gain weight? ',\n",
        "             'Have you felt fat?',\n",
        "             'Have you had a strong desire to lose weight?',\n",
        "             'Has your weight influenced how you think about (judge) yourself as a person?',\n",
        "             'Has your shape influenced how you think about (judge) yourself as a person?',\n",
        "             'Are you dissatisfied with your weight?',\n",
        "             'Do you feel uncomfortable seeing your body (for example, seeing your shape in the mirror, in a shop window reflection, while undressing or taking a bath or shower)?'\n",
        "             ]\n",
        "\n",
        "# Define the threshold for suggesting seeking professional help\n",
        "threshold = 0.5\n",
        "\n",
        "def chat():\n",
        "    print('Hi there, I\\'m a chatbot designed to help you assess whether you may have an eating disorder.')\n",
        "    true_label = int(input('Enter the true label (1 for positive, 0 for negative): '))\n",
        "    print('To get started, can you answer a few questions for me?')\n",
        "    responses = []\n",
        "    for q in questions:\n",
        "        response = input(q + ' (y/n): ')\n",
        "        if response.lower() == 'y':\n",
        "            responses.append(1)\n",
        "        else:\n",
        "            responses.append(0)\n",
        "    # Make a prediction using the trained model\n",
        "    pred_prob = model.predict_proba([responses])[0][1]\n",
        "    if pred_prob < threshold:\n",
        "        print('Based on your responses, we suggest you seek more help by visiting this link https://www.beateatingdisorders.org.uk.')\n",
        "        predicted_label = 1\n",
        "    else:\n",
        "        print('We are grateful for your response.')\n",
        "        predicted_label = 0\n",
        "    \n",
        "    # Calculate precision, accuracy, and recall\n",
        "    y_pred = [predicted_label]\n",
        "    y_true = [true_label]\n",
        "    precision = precision_score(y_true, y_pred)\n",
        "    accuracy = accuracy_score(y_true, y_pred)\n",
        "    recall = recall_score(y_true, y_pred)\n",
        "    print('Precision:', precision)\n",
        "    print('Accuracy:', accuracy)\n",
        "    print('Recall:', recall)\n",
        "\n",
        " \n",
        "\n",
        "        \n",
        "# Run the chatbotynn\n",
        "chat()\n"
      ],
      "metadata": {
        "colab": {
          "base_uri": "https://localhost:8080/"
        },
        "id": "lYXLKILNhi0j",
        "outputId": "bda6da46-bd0d-4c98-8629-6719f06b8795"
      },
      "execution_count": 45,
      "outputs": [
        {
          "output_type": "stream",
          "name": "stdout",
          "text": [
            "Hi there, I'm a chatbot designed to help you assess whether you may have an eating disorder.\n",
            "Enter the true label (1 for positive, 0 for negative): 1\n",
            "To get started, can you answer a few questions for me?\n",
            "Have you been deliberately trying to limit the amount of food you eat to influence your shape or weight (whether or not you have succeeded)? (y/n): y\n",
            "Have you gone for long periods of time (8 waking hours or more) without eating anything at all in order to influence your shape or weight? (y/n): y\n",
            "Have you tried to exclude from your diet any foods that you like in order to influence your shape or weight (whether or not you have succeeded)? (y/n): y\n",
            "Have you tried to follow definite rules regarding your eating (for example, a calorie limit) in order to influence your shape or weight (whether or not you have succeeded)? (y/n): y\n",
            "Have you had a definite desire to have an empty stomach with the aim of influencing your shape or weight?  (y/n): y\n",
            "Have you had a definite desire to have a totally flat stomach?  (y/n): y\n",
            "Has thinking about food, eating or calories made it very difficult to concentrate on things you are interested in (for example, working, following a conversation, or reading)? (y/n): y\n",
            "Has thinking about shape or weight made it very difficult to concentrate on things you are interested in (for example, working, following a conversation, or reading)? (y/n): y\n",
            "Have you had a definite fear of losing control over eating? (y/n): y\n",
            "Have you had a definite fear that you might gain weight?  (y/n): y\n",
            "Have you felt fat? (y/n): y\n",
            "Have you had a strong desire to lose weight? (y/n): y\n",
            "Has your weight influenced how you think about (judge) yourself as a person? (y/n): y\n",
            "Has your shape influenced how you think about (judge) yourself as a person? (y/n): y\n",
            "Are you dissatisfied with your weight? (y/n): y\n",
            "Do you feel uncomfortable seeing your body (for example, seeing your shape in the mirror, in a shop window reflection, while undressing or taking a bath or shower)? (y/n): y\n",
            "Based on your responses, we suggest you seek more help by visiting this link https://www.beateatingdisorders.org.uk.\n",
            "Precision: 1.0\n",
            "Accuracy: 1.0\n",
            "Recall: 1.0\n"
          ]
        }
      ]
    }
  ],
  "metadata": {
    "colab": {
      "provenance": [],
      "mount_file_id": "1AHr5l6vzsWDQi3GSs95lVRfguv5y6-Vu",
      "authorship_tag": "ABX9TyN2u7d3RHFrmL41QDmi2ojK",
      "include_colab_link": true
    },
    "kernelspec": {
      "display_name": "Python 3",
      "name": "python3"
    },
    "language_info": {
      "name": "python"
    }
  },
  "nbformat": 4,
  "nbformat_minor": 0
}